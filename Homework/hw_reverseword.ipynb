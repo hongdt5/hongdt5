{
 "cells": [
  {
   "cell_type": "markdown",
   "metadata": {},
   "source": [
    "Xử lý chuỗi - Đảo ngược từ và kiểu hoa thường\n",
    "\n",
    "Cho 1 chuỗi A (vd: \"tHE fOX iS cOMING fOR tHE cHICKEN\"). Viết hàm đảo ngược thứ tự các từ trong chuỗi và đổi tất cả các chữ cái từ hoa thành thường và ngược lại. (kết quả là \"Chicken The For Coming Is Fox The\")"
   ]
  },
  {
   "cell_type": "code",
   "execution_count": 25,
   "metadata": {},
   "outputs": [
    {
     "data": {
      "text/plain": [
       "'Chicken The For Coming Is Fox The'"
      ]
     },
     "execution_count": 25,
     "metadata": {},
     "output_type": "execute_result"
    }
   ],
   "source": [
    "sentence = \"tHE fOX iS cOMING fOR tHE cHICKEN\"\n",
    "reverseWords = sentence[::-1].split(' ')# đảo chuỗi trên thành 'NEKCIHc EHt ROf GNIMOc Si XOf EHt' # tách từ trong câu ['NEKCIHc', 'EHt', 'ROf', 'GNIMOc', 'Si', 'XOf', 'EHt']\n",
    "' '.join(word[::-1].swapcase() for word in reverseWords) # đảo chuỗi tiếp các từ trong câu và convert ký tự chữ Hoa chữ Thường"
   ]
  },
  {
   "cell_type": "code",
   "execution_count": null,
   "metadata": {},
   "outputs": [],
   "source": []
  }
 ],
 "metadata": {
  "interpreter": {
   "hash": "37f2d707820f6b70aca1129e8e1e1c52a08555f4cc4b8dee3fec9830c1a1afbe"
  },
  "kernelspec": {
   "display_name": "Python 3.10.0 64-bit",
   "language": "python",
   "name": "python3"
  },
  "language_info": {
   "codemirror_mode": {
    "name": "ipython",
    "version": 3
   },
   "file_extension": ".py",
   "mimetype": "text/x-python",
   "name": "python",
   "nbconvert_exporter": "python",
   "pygments_lexer": "ipython3",
   "version": "3.10.0"
  },
  "orig_nbformat": 4
 },
 "nbformat": 4,
 "nbformat_minor": 2
}
