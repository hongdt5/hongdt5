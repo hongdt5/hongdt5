{
 "cells": [
  {
   "cell_type": "markdown",
   "metadata": {},
   "source": [
    "For/While loop và Dictionary/Tuple/Set - Find Pair\n",
    "Cho list A chứa các số nguyên đã sắp xếp theo thứ tự tăng dần.\n",
    "Vd A = [3, 6, 7, 9, 11, 12] và một số nguyên sum. Tìm tất cả các cặp số (a,b) trong mảng A có tổng bằng sum\n",
    "vd ở đây nếu sum = 18 thì kết quả là [(7,11), (6,12)]. Nếu không có cặp số nào thỏa mãn thì in ra list rỗng []"
   ]
  },
  {
   "cell_type": "code",
   "execution_count": 5,
   "metadata": {},
   "outputs": [
    {
     "data": {
      "text/plain": [
       "[(3, 12), (6, 9)]"
      ]
     },
     "execution_count": 5,
     "metadata": {},
     "output_type": "execute_result"
    }
   ],
   "source": [
    "A = [3, 6, 7, 9, 11, 12]\n",
    "def findpair(A, sum):\n",
    "    arr = []\n",
    "    for i in range(len(A)-1):\n",
    "        for j in range(i+1, len(A)):\n",
    "            if A[i] + A[j] == sum:\n",
    "                arr.append((A[i], A[j]))\n",
    "    return arr\n",
    "findpair([3, 6, 7, 9, 11, 12], 15)"
   ]
  },
  {
   "cell_type": "markdown",
   "metadata": {},
   "source": []
  }
 ],
 "metadata": {
  "interpreter": {
   "hash": "37f2d707820f6b70aca1129e8e1e1c52a08555f4cc4b8dee3fec9830c1a1afbe"
  },
  "kernelspec": {
   "display_name": "Python 3.10.0 64-bit",
   "language": "python",
   "name": "python3"
  },
  "language_info": {
   "codemirror_mode": {
    "name": "ipython",
    "version": 3
   },
   "file_extension": ".py",
   "mimetype": "text/x-python",
   "name": "python",
   "nbconvert_exporter": "python",
   "pygments_lexer": "ipython3",
   "version": "3.10.0"
  },
  "orig_nbformat": 4
 },
 "nbformat": 4,
 "nbformat_minor": 2
}
