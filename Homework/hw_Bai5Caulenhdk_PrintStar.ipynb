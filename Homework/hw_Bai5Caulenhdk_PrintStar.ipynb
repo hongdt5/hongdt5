{
 "cells": [
  {
   "cell_type": "code",
   "execution_count": 26,
   "metadata": {},
   "outputs": [
    {
     "name": "stdout",
     "output_type": "stream",
     "text": [
      "Print star 1\n",
      "         \n",
      "       * \n",
      "     * * \n",
      "   * * * \n",
      " * * * * \n"
     ]
    }
   ],
   "source": [
    "#hình 1 \n",
    "#Print star 1\n",
    "#         \n",
    "#       * \n",
    "#     * * \n",
    "#   * * * \n",
    "# * * * * \n",
    "print(\"Print star 1\")\n",
    "for i in range(5):\n",
    "    print ('  '*(4-i),'* '*i)"
   ]
  },
  {
   "cell_type": "code",
   "execution_count": 44,
   "metadata": {},
   "outputs": [
    {
     "name": "stdout",
     "output_type": "stream",
     "text": [
      "         \n",
      "       * \n",
      "     * * \n",
      "   * * * \n",
      " * * * * \n",
      "* * * *  \n",
      "* * *    \n",
      "* *      \n",
      "*        \n",
      "         \n"
     ]
    }
   ],
   "source": [
    "#hình 2\n",
    "#         \n",
    "#       * \n",
    "#     * * \n",
    "#   * * * \n",
    "# * * * * * * * *\n",
    "#         * * *\n",
    "#         * *\n",
    "#         *\n",
    "#       \n",
    "for i in range(5):\n",
    "    print ('  '*(5-1-i),'* '*i)\n",
    "\n",
    "for i in range(5):\n",
    "    print ('* '*(5-1-i),'  '*(i),)"
   ]
  },
  {
   "cell_type": "code",
   "execution_count": 56,
   "metadata": {},
   "outputs": [
    {
     "name": "stdout",
     "output_type": "stream",
     "text": [
      "         \n",
      "       * \n",
      "     * * \n",
      "   * * * \n",
      "* * * * \n",
      "* * *            \n",
      "* *              \n",
      "*                \n",
      "                 \n"
     ]
    }
   ],
   "source": [
    "for i in range(9):\n",
    "    if(i< 4):\n",
    "        print ('  '* (4-i),'* '*i)\n",
    "    elif i == 4:\n",
    "     print ('* '*(9-1-i))\n",
    "    elif i> 4:\n",
    "        print ('* '*(9-1-i),'  '*(i),)"
   ]
  }
 ],
 "metadata": {
  "interpreter": {
   "hash": "04635d289a519a1410467dd0afb0db42f9184808881ca68b2eb5a687a20a5a94"
  },
  "kernelspec": {
   "display_name": "Python 3.7.9 64-bit",
   "name": "python3"
  },
  "language_info": {
   "codemirror_mode": {
    "name": "ipython",
    "version": 3
   },
   "file_extension": ".py",
   "mimetype": "text/x-python",
   "name": "python",
   "nbconvert_exporter": "python",
   "pygments_lexer": "ipython3",
   "version": "3.7.9"
  },
  "orig_nbformat": 4
 },
 "nbformat": 4,
 "nbformat_minor": 2
}
