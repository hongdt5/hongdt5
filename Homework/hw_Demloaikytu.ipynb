{
 "cells": [
  {
   "cell_type": "code",
   "execution_count": 44,
   "source": [
    "\r\n",
    "def count_char_type():\r\n",
    "    str_dauvao  = \"Hello World! 123\"\r\n",
    "    count_uppercase = 0\r\n",
    "    count_lowercase = 0\r\n",
    "    count_digit = 0\r\n",
    "    count_alpha = 0\r\n",
    "    for i in str_dauvao:\r\n",
    "        if i.islower():\r\n",
    "            count_lowercase+=1   \r\n",
    "            count_alpha+=1         \r\n",
    "        elif i.isupper():\r\n",
    "            count_uppercase+=1\r\n",
    "            count_alpha+=1\r\n",
    "        elif i.isnumeric():\r\n",
    "            count_digit +=1\r\n",
    "    print (str(count_lowercase))\r\n",
    "    a_dictionary = {\"LETTERS\": count_alpha, \"CASE\": {\"UPPERCASE\":count_uppercase, \"LOWER\": count_lowercase}, \"DIGIT\":count_digit}\r\n",
    "    return a_dictionary\r\n",
    "count_char_type() "
   ],
   "outputs": [
    {
     "output_type": "stream",
     "name": "stdout",
     "text": [
      "8\n"
     ]
    },
    {
     "output_type": "execute_result",
     "data": {
      "text/plain": [
       "{'LETTERS': 10, 'CASE': {'UPPERCASE': 2, 'LOWER': 8}, 'DIGIT': 3}"
      ]
     },
     "metadata": {},
     "execution_count": 44
    }
   ],
   "metadata": {}
  },
  {
   "cell_type": "code",
   "execution_count": 40,
   "source": [
    "count_alpha = 0\r\n",
    "str_dauvao  = \"Hello World! 123\"\r\n",
    "for i in str_dauvao:\r\n",
    "    if i.isupper():\r\n",
    "        count_alpha+=1\r\n",
    "count_alpha "
   ],
   "outputs": [
    {
     "output_type": "execute_result",
     "data": {
      "text/plain": [
       "2"
      ]
     },
     "metadata": {},
     "execution_count": 40
    }
   ],
   "metadata": {}
  },
  {
   "cell_type": "code",
   "execution_count": null,
   "source": [
    "def count(x):\r\n",
    "    length = len(x)\r\n",
    "    digit = 0\r\n",
    "    letters = 0\r\n",
    "    space = 0\r\n",
    "    other = 0\r\n",
    "    for i in x:\r\n",
    "        if x[i].isalpha():\r\n",
    "            letters += 1\r\n",
    "        elif x[i].isnumeric():\r\n",
    "            digit += 1\r\n",
    "        elif x[i].isspace():\r\n",
    "            space += 1\r\n",
    "        else:\r\n",
    "            other += 1\r\n",
    "    print (letters, )\r\n",
    "count()"
   ],
   "outputs": [],
   "metadata": {}
  }
 ],
 "metadata": {
  "orig_nbformat": 4,
  "language_info": {
   "name": "python",
   "version": "3.7.9",
   "mimetype": "text/x-python",
   "codemirror_mode": {
    "name": "ipython",
    "version": 3
   },
   "pygments_lexer": "ipython3",
   "nbconvert_exporter": "python",
   "file_extension": ".py"
  },
  "kernelspec": {
   "name": "python3",
   "display_name": "Python 3.7.9 64-bit"
  },
  "interpreter": {
   "hash": "04635d289a519a1410467dd0afb0db42f9184808881ca68b2eb5a687a20a5a94"
  }
 },
 "nbformat": 4,
 "nbformat_minor": 2
}